{
 "cells": [
  {
   "cell_type": "markdown",
   "metadata": {},
   "source": [
    "# 0. Install Dependencies"
   ]
  },
  {
   "cell_type": "code",
   "execution_count": 1,
   "metadata": {
    "collapsed": true
   },
   "outputs": [
    {
     "name": "stdout",
     "output_type": "stream",
     "text": [
      "Requirement already satisfied: gym in d:\\c drive\\desktop\\study\\4-1\\rl\\project\\.virtenv\\lib\\site-packages (0.21.0)\n",
      "Requirement already satisfied: keras-rl2 in d:\\c drive\\desktop\\study\\4-1\\rl\\project\\.virtenv\\lib\\site-packages (1.0.5)\n",
      "Requirement already satisfied: cloudpickle>=1.2.0 in d:\\c drive\\desktop\\study\\4-1\\rl\\project\\.virtenv\\lib\\site-packages (from gym) (2.0.0)\n",
      "Requirement already satisfied: numpy>=1.18.0 in d:\\c drive\\desktop\\study\\4-1\\rl\\project\\.virtenv\\lib\\site-packages (from gym) (1.21.4)\n",
      "Requirement already satisfied: tensorflow in d:\\c drive\\desktop\\study\\4-1\\rl\\project\\.virtenv\\lib\\site-packages (from keras-rl2) (2.7.0)\n",
      "Requirement already satisfied: ale-py~=0.7.1 in d:\\c drive\\desktop\\study\\4-1\\rl\\project\\.virtenv\\lib\\site-packages (from gym) (0.7.3)\n",
      "Requirement already satisfied: importlib-resources in d:\\c drive\\desktop\\study\\4-1\\rl\\project\\.virtenv\\lib\\site-packages (from ale-py~=0.7.1->gym) (5.4.0)\n",
      "Requirement already satisfied: keras<2.8,>=2.7.0rc0 in d:\\c drive\\desktop\\study\\4-1\\rl\\project\\.virtenv\\lib\\site-packages (from tensorflow->keras-rl2) (2.7.0)\n",
      "Requirement already satisfied: h5py>=2.9.0 in d:\\c drive\\desktop\\study\\4-1\\rl\\project\\.virtenv\\lib\\site-packages (from tensorflow->keras-rl2) (3.5.0)\n",
      "Requirement already satisfied: gast<0.5.0,>=0.2.1 in d:\\c drive\\desktop\\study\\4-1\\rl\\project\\.virtenv\\lib\\site-packages (from tensorflow->keras-rl2) (0.4.0)\n",
      "Requirement already satisfied: absl-py>=0.4.0 in d:\\c drive\\desktop\\study\\4-1\\rl\\project\\.virtenv\\lib\\site-packages (from tensorflow->keras-rl2) (1.0.0)\n",
      "Requirement already satisfied: six>=1.12.0 in d:\\c drive\\desktop\\study\\4-1\\rl\\project\\.virtenv\\lib\\site-packages (from tensorflow->keras-rl2) (1.16.0)\n",
      "Requirement already satisfied: protobuf>=3.9.2 in d:\\c drive\\desktop\\study\\4-1\\rl\\project\\.virtenv\\lib\\site-packages (from tensorflow->keras-rl2) (3.19.1)\n",
      "Requirement already satisfied: keras-preprocessing>=1.1.1 in d:\\c drive\\desktop\\study\\4-1\\rl\\project\\.virtenv\\lib\\site-packages (from tensorflow->keras-rl2) (1.1.2)\n",
      "Requirement already satisfied: astunparse>=1.6.0 in d:\\c drive\\desktop\\study\\4-1\\rl\\project\\.virtenv\\lib\\site-packages (from tensorflow->keras-rl2) (1.6.3)\n",
      "Requirement already satisfied: wrapt>=1.11.0 in d:\\c drive\\desktop\\study\\4-1\\rl\\project\\.virtenv\\lib\\site-packages (from tensorflow->keras-rl2) (1.13.3)\n",
      "Requirement already satisfied: tensorboard~=2.6 in d:\\c drive\\desktop\\study\\4-1\\rl\\project\\.virtenv\\lib\\site-packages (from tensorflow->keras-rl2) (2.7.0)\n",
      "Requirement already satisfied: termcolor>=1.1.0 in d:\\c drive\\desktop\\study\\4-1\\rl\\project\\.virtenv\\lib\\site-packages (from tensorflow->keras-rl2) (1.1.0)\n",
      "Requirement already satisfied: google-pasta>=0.1.1 in d:\\c drive\\desktop\\study\\4-1\\rl\\project\\.virtenv\\lib\\site-packages (from tensorflow->keras-rl2) (0.2.0)\n",
      "Requirement already satisfied: flatbuffers<3.0,>=1.12 in d:\\c drive\\desktop\\study\\4-1\\rl\\project\\.virtenv\\lib\\site-packages (from tensorflow->keras-rl2) (2.0)\n",
      "Requirement already satisfied: wheel<1.0,>=0.32.0 in d:\\c drive\\desktop\\study\\4-1\\rl\\project\\.virtenv\\lib\\site-packages (from tensorflow->keras-rl2) (0.37.0)\n",
      "Requirement already satisfied: grpcio<2.0,>=1.24.3 in d:\\c drive\\desktop\\study\\4-1\\rl\\project\\.virtenv\\lib\\site-packages (from tensorflow->keras-rl2) (1.41.1)\n",
      "Requirement already satisfied: opt-einsum>=2.3.2 in d:\\c drive\\desktop\\study\\4-1\\rl\\project\\.virtenv\\lib\\site-packages (from tensorflow->keras-rl2) (3.3.0)\n",
      "Requirement already satisfied: tensorflow-io-gcs-filesystem>=0.21.0 in d:\\c drive\\desktop\\study\\4-1\\rl\\project\\.virtenv\\lib\\site-packages (from tensorflow->keras-rl2) (0.22.0)\n",
      "Requirement already satisfied: libclang>=9.0.1 in d:\\c drive\\desktop\\study\\4-1\\rl\\project\\.virtenv\\lib\\site-packages (from tensorflow->keras-rl2) (12.0.0)\n",
      "Requirement already satisfied: typing-extensions>=3.6.6 in d:\\c drive\\desktop\\study\\4-1\\rl\\project\\.virtenv\\lib\\site-packages (from tensorflow->keras-rl2) (3.10.0.2)\n",
      "Requirement already satisfied: tensorflow-estimator<2.8,~=2.7.0rc0 in d:\\c drive\\desktop\\study\\4-1\\rl\\project\\.virtenv\\lib\\site-packages (from tensorflow->keras-rl2) (2.7.0)\n",
      "Requirement already satisfied: google-auth<3,>=1.6.3 in d:\\c drive\\desktop\\study\\4-1\\rl\\project\\.virtenv\\lib\\site-packages (from tensorboard~=2.6->tensorflow->keras-rl2) (2.3.3)\n",
      "Requirement already satisfied: setuptools>=41.0.0 in d:\\c drive\\desktop\\study\\4-1\\rl\\project\\.virtenv\\lib\\site-packages (from tensorboard~=2.6->tensorflow->keras-rl2) (58.3.0)\n",
      "Requirement already satisfied: markdown>=2.6.8 in d:\\c drive\\desktop\\study\\4-1\\rl\\project\\.virtenv\\lib\\site-packages (from tensorboard~=2.6->tensorflow->keras-rl2) (3.3.4)\n",
      "Requirement already satisfied: google-auth-oauthlib<0.5,>=0.4.1 in d:\\c drive\\desktop\\study\\4-1\\rl\\project\\.virtenv\\lib\\site-packages (from tensorboard~=2.6->tensorflow->keras-rl2) (0.4.6)\n",
      "Requirement already satisfied: tensorboard-data-server<0.7.0,>=0.6.0 in d:\\c drive\\desktop\\study\\4-1\\rl\\project\\.virtenv\\lib\\site-packages (from tensorboard~=2.6->tensorflow->keras-rl2) (0.6.1)\n",
      "Requirement already satisfied: tensorboard-plugin-wit>=1.6.0 in d:\\c drive\\desktop\\study\\4-1\\rl\\project\\.virtenv\\lib\\site-packages (from tensorboard~=2.6->tensorflow->keras-rl2) (1.8.0)\n",
      "Requirement already satisfied: requests<3,>=2.21.0 in d:\\c drive\\desktop\\study\\4-1\\rl\\project\\.virtenv\\lib\\site-packages (from tensorboard~=2.6->tensorflow->keras-rl2) (2.26.0)\n",
      "Requirement already satisfied: werkzeug>=0.11.15 in d:\\c drive\\desktop\\study\\4-1\\rl\\project\\.virtenv\\lib\\site-packages (from tensorboard~=2.6->tensorflow->keras-rl2) (2.0.2)\n",
      "Requirement already satisfied: zipp>=3.1.0 in d:\\c drive\\desktop\\study\\4-1\\rl\\project\\.virtenv\\lib\\site-packages (from importlib-resources->ale-py~=0.7.1->gym) (3.6.0)\n",
      "Requirement already satisfied: rsa<5,>=3.1.4 in d:\\c drive\\desktop\\study\\4-1\\rl\\project\\.virtenv\\lib\\site-packages (from google-auth<3,>=1.6.3->tensorboard~=2.6->tensorflow->keras-rl2) (4.7.2)\n",
      "Requirement already satisfied: cachetools<5.0,>=2.0.0 in d:\\c drive\\desktop\\study\\4-1\\rl\\project\\.virtenv\\lib\\site-packages (from google-auth<3,>=1.6.3->tensorboard~=2.6->tensorflow->keras-rl2) (4.2.4)\n",
      "Requirement already satisfied: pyasn1-modules>=0.2.1 in d:\\c drive\\desktop\\study\\4-1\\rl\\project\\.virtenv\\lib\\site-packages (from google-auth<3,>=1.6.3->tensorboard~=2.6->tensorflow->keras-rl2) (0.2.8)\n",
      "Requirement already satisfied: requests-oauthlib>=0.7.0 in d:\\c drive\\desktop\\study\\4-1\\rl\\project\\.virtenv\\lib\\site-packages (from google-auth-oauthlib<0.5,>=0.4.1->tensorboard~=2.6->tensorflow->keras-rl2) (1.3.0)\n",
      "Requirement already satisfied: charset-normalizer~=2.0.0 in d:\\c drive\\desktop\\study\\4-1\\rl\\project\\.virtenv\\lib\\site-packages (from requests<3,>=2.21.0->tensorboard~=2.6->tensorflow->keras-rl2) (2.0.7)\n",
      "Requirement already satisfied: urllib3<1.27,>=1.21.1 in d:\\c drive\\desktop\\study\\4-1\\rl\\project\\.virtenv\\lib\\site-packages (from requests<3,>=2.21.0->tensorboard~=2.6->tensorflow->keras-rl2) (1.26.7)\n",
      "Requirement already satisfied: idna<4,>=2.5 in d:\\c drive\\desktop\\study\\4-1\\rl\\project\\.virtenv\\lib\\site-packages (from requests<3,>=2.21.0->tensorboard~=2.6->tensorflow->keras-rl2) (3.3)\n",
      "Requirement already satisfied: certifi>=2017.4.17 in d:\\c drive\\desktop\\study\\4-1\\rl\\project\\.virtenv\\lib\\site-packages (from requests<3,>=2.21.0->tensorboard~=2.6->tensorflow->keras-rl2) (2021.10.8)\n",
      "Requirement already satisfied: pyasn1<0.5.0,>=0.4.6 in d:\\c drive\\desktop\\study\\4-1\\rl\\project\\.virtenv\\lib\\site-packages (from pyasn1-modules>=0.2.1->google-auth<3,>=1.6.3->tensorboard~=2.6->tensorflow->keras-rl2) (0.4.8)\n",
      "Requirement already satisfied: oauthlib>=3.0.0 in d:\\c drive\\desktop\\study\\4-1\\rl\\project\\.virtenv\\lib\\site-packages (from requests-oauthlib>=0.7.0->google-auth-oauthlib<0.5,>=0.4.1->tensorboard~=2.6->tensorflow->keras-rl2) (3.1.1)\n"
     ]
    }
   ],
   "source": [
    "!pip install gym keras-rl2 gym[atari]"
   ]
  },
  {
   "cell_type": "markdown",
   "metadata": {},
   "source": [
    "# 1. Test Random Environment with OpenAI Gym"
   ]
  },
  {
   "cell_type": "code",
   "execution_count": 1,
   "metadata": {},
   "outputs": [],
   "source": [
    "import gym \n",
    "import random\n",
    "from ale_py import ALEInterface\n",
    "from ale_py.roms import SpaceInvaders"
   ]
  },
  {
   "cell_type": "code",
   "execution_count": 2,
   "metadata": {},
   "outputs": [],
   "source": [
    "ale = ALEInterface()\n",
    "env = gym.make('SpaceInvaders-v0', render_mode='human')\n",
    "height, width, channels = env.observation_space.shape\n",
    "actions = env.action_space.n"
   ]
  },
  {
   "cell_type": "code",
   "execution_count": 3,
   "metadata": {},
   "outputs": [
    {
     "data": {
      "text/plain": [
       "['NOOP', 'FIRE', 'RIGHT', 'LEFT', 'RIGHTFIRE', 'LEFTFIRE']"
      ]
     },
     "execution_count": 3,
     "metadata": {},
     "output_type": "execute_result"
    }
   ],
   "source": [
    "env.unwrapped.get_action_meanings()"
   ]
  },
  {
   "cell_type": "code",
   "execution_count": 3,
   "metadata": {},
   "outputs": [
    {
     "name": "stderr",
     "output_type": "stream",
     "text": [
      "d:\\C Drive\\Desktop\\study\\4-1\\RL\\project\\.virtenv\\lib\\site-packages\\gym\\envs\\atari\\environment.py:255: UserWarning: \u001b[33mWARN: We strongly suggest supplying `render_mode` when constructing your environment, e.g., gym.make(ID, render_mode='human'). Using `render_mode` provides access to proper scaling, audio support, and proper framerates.\u001b[0m\n",
      "  logger.warn(\n",
      "d:\\C Drive\\Desktop\\study\\4-1\\RL\\project\\.virtenv\\lib\\site-packages\\pyglet\\image\\codecs\\wic.py:289: UserWarning: [WinError -2147417850] Cannot change thread mode after it is set\n",
      "  warnings.warn(str(err))\n"
     ]
    },
    {
     "name": "stdout",
     "output_type": "stream",
     "text": [
      "Episode:1 Score:120.0\n",
      "Episode:2 Score:90.0\n",
      "Episode:3 Score:5.0\n",
      "Episode:4 Score:130.0\n",
      "Episode:5 Score:210.0\n"
     ]
    }
   ],
   "source": [
    "episodes = 5\n",
    "for episode in range(1, episodes+1):\n",
    "    state = env.reset()\n",
    "    done = False\n",
    "    score = 0 \n",
    "    \n",
    "    while not done:\n",
    "        env.render()\n",
    "        action = random.choice([0,1,2,3,4,5])\n",
    "        n_state, reward, done, info = env.step(action)\n",
    "        score+=reward\n",
    "    print('Episode:{} Score:{}'.format(episode, score))\n",
    "env.close()"
   ]
  },
  {
   "cell_type": "markdown",
   "metadata": {},
   "source": [
    "# 2. Create a Deep Learning Model with Keras"
   ]
  },
  {
   "cell_type": "code",
   "execution_count": 4,
   "metadata": {},
   "outputs": [],
   "source": [
    "import numpy as np\n",
    "from tensorflow.keras.models import Sequential\n",
    "from tensorflow.keras.layers import Dense, Flatten, Convolution2D\n",
    "from tensorflow.keras.optimizers import Adam"
   ]
  },
  {
   "cell_type": "code",
   "execution_count": 5,
   "metadata": {},
   "outputs": [],
   "source": [
    "def build_model(height, width, channels, actions):\n",
    "    model = Sequential()\n",
    "    model.add(Convolution2D(32, (8,8), strides=(4,4), activation='relu', input_shape=(3,height, width, channels)))\n",
    "    model.add(Convolution2D(64, (4,4), strides=(2,2), activation='relu'))\n",
    "    model.add(Convolution2D(64, (3,3), activation='relu'))\n",
    "    model.add(Flatten())\n",
    "    model.add(Dense(512, activation='relu'))\n",
    "    model.add(Dense(256, activation='relu'))\n",
    "    model.add(Dense(actions, activation='linear'))\n",
    "    return model"
   ]
  },
  {
   "cell_type": "code",
   "execution_count": 6,
   "metadata": {},
   "outputs": [],
   "source": [
    "# del model"
   ]
  },
  {
   "cell_type": "code",
   "execution_count": 7,
   "metadata": {},
   "outputs": [],
   "source": [
    "model = build_model(height, width, channels, actions)"
   ]
  },
  {
   "cell_type": "code",
   "execution_count": 8,
   "metadata": {},
   "outputs": [
    {
     "name": "stdout",
     "output_type": "stream",
     "text": [
      "Model: \"sequential\"\n",
      "_________________________________________________________________\n",
      " Layer (type)                Output Shape              Param #   \n",
      "=================================================================\n",
      " conv2d (Conv2D)             (None, 3, 51, 39, 32)     6176      \n",
      "                                                                 \n",
      " conv2d_1 (Conv2D)           (None, 3, 24, 18, 64)     32832     \n",
      "                                                                 \n",
      " conv2d_2 (Conv2D)           (None, 3, 22, 16, 64)     36928     \n",
      "                                                                 \n",
      " flatten (Flatten)           (None, 67584)             0         \n",
      "                                                                 \n",
      " dense (Dense)               (None, 512)               34603520  \n",
      "                                                                 \n",
      " dense_1 (Dense)             (None, 256)               131328    \n",
      "                                                                 \n",
      " dense_2 (Dense)             (None, 6)                 1542      \n",
      "                                                                 \n",
      "=================================================================\n",
      "Total params: 34,812,326\n",
      "Trainable params: 34,812,326\n",
      "Non-trainable params: 0\n",
      "_________________________________________________________________\n"
     ]
    }
   ],
   "source": [
    "model.summary()"
   ]
  },
  {
   "cell_type": "markdown",
   "metadata": {},
   "source": [
    "# 3. Build Agent with Keras-RL"
   ]
  },
  {
   "cell_type": "code",
   "execution_count": 9,
   "metadata": {},
   "outputs": [],
   "source": [
    "from rl.agents import DQNAgent\n",
    "from rl.memory import SequentialMemory\n",
    "from rl.policy import LinearAnnealedPolicy, EpsGreedyQPolicy"
   ]
  },
  {
   "cell_type": "code",
   "execution_count": 10,
   "metadata": {},
   "outputs": [],
   "source": [
    "def build_agent(model, actions):\n",
    "    policy = LinearAnnealedPolicy(EpsGreedyQPolicy(), attr='eps', value_max=1., value_min=.1, value_test=.2, nb_steps=10000)\n",
    "    memory = SequentialMemory(limit=1000, window_length=3)\n",
    "    dqn = DQNAgent(model=model, memory=memory, policy=policy,\n",
    "                  enable_dueling_network=True, dueling_type='avg', \n",
    "                   nb_actions=actions, nb_steps_warmup=10\n",
    "                  )\n",
    "    return dqn"
   ]
  },
  {
   "cell_type": "code",
   "execution_count": 11,
   "metadata": {},
   "outputs": [],
   "source": [
    "dqn = build_agent(model, actions)\n",
    "dqn.compile(Adam(lr=1e-4))"
   ]
  },
  {
   "cell_type": "code",
   "execution_count": null,
   "metadata": {
    "collapsed": true
   },
   "outputs": [],
   "source": [
    "# dqn.fit(env, nb_steps=10000, visualize=False, verbose=2)\n",
    "dqn.fit(env, nb_steps=100, visualize=False, verbose=2)"
   ]
  },
  {
   "cell_type": "code",
   "execution_count": 27,
   "metadata": {},
   "outputs": [
    {
     "name": "stdout",
     "output_type": "stream",
     "text": [
      "Testing for 10 episodes ...\n",
      "Episode 1: reward: 90.000, steps: 499\n",
      "Episode 2: reward: 220.000, steps: 965\n",
      "Episode 3: reward: 230.000, steps: 1224\n",
      "Episode 4: reward: 240.000, steps: 715\n",
      "Episode 5: reward: 635.000, steps: 1267\n",
      "Episode 6: reward: 205.000, steps: 673\n",
      "Episode 7: reward: 435.000, steps: 1096\n",
      "Episode 8: reward: 315.000, steps: 1166\n",
      "Episode 9: reward: 170.000, steps: 679\n",
      "Episode 10: reward: 280.000, steps: 871\n",
      "282.0\n"
     ]
    }
   ],
   "source": [
    "scores = dqn.test(env, nb_episodes=10, visualize=True)\n",
    "print(np.mean(scores.history['episode_reward']))"
   ]
  },
  {
   "cell_type": "markdown",
   "metadata": {},
   "source": [
    "# 4. Reloading Agent from Memory"
   ]
  },
  {
   "cell_type": "code",
   "execution_count": 21,
   "metadata": {},
   "outputs": [],
   "source": [
    "dqn.save_weights('SavedWeights/10k-Fast/dqn_weights.h5f')"
   ]
  },
  {
   "cell_type": "code",
   "execution_count": 22,
   "metadata": {},
   "outputs": [],
   "source": [
    "del model, dqn"
   ]
  },
  {
   "cell_type": "code",
   "execution_count": 26,
   "metadata": {},
   "outputs": [],
   "source": [
    "dqn.load_weights('SavedWeights/1m/dqn_weights.h5f')"
   ]
  },
  {
   "cell_type": "code",
   "execution_count": null,
   "metadata": {},
   "outputs": [],
   "source": []
  }
 ],
 "metadata": {
  "interpreter": {
   "hash": "7efb30e8aca418e3795e8aef113f89fdb63f1f563ae26e416ea6cd2d043904bc"
  },
  "kernelspec": {
   "display_name": "Python 3.9.8 64-bit ('.virtenv': venv)",
   "name": "python3"
  },
  "language_info": {
   "codemirror_mode": {
    "name": "ipython",
    "version": 3
   },
   "file_extension": ".py",
   "mimetype": "text/x-python",
   "name": "python",
   "nbconvert_exporter": "python",
   "pygments_lexer": "ipython3",
   "version": "3.9.8"
  }
 },
 "nbformat": 4,
 "nbformat_minor": 2
}
